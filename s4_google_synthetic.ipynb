{
 "cells": [
  {
   "cell_type": "code",
   "execution_count": null,
   "id": "11a3e8a1",
   "metadata": {},
   "outputs": [],
   "source": [
    "#!pip3 install --user --upgrade google-cloud-texttospeech"
   ]
  },
  {
   "cell_type": "code",
   "execution_count": null,
   "id": "7304fde0",
   "metadata": {},
   "outputs": [],
   "source": [
    "#!pip install --upgrade google-cloud-speech"
   ]
  },
  {
   "cell_type": "code",
   "execution_count": null,
   "id": "95951623",
   "metadata": {},
   "outputs": [],
   "source": [
    "#!pip install google-cloud-speech"
   ]
  },
  {
   "cell_type": "code",
   "execution_count": 17,
   "id": "d4d6a741",
   "metadata": {},
   "outputs": [],
   "source": [
    "import os"
   ]
  },
  {
   "cell_type": "code",
   "execution_count": 1,
   "id": "6c6230d9",
   "metadata": {},
   "outputs": [],
   "source": [
    "key_file = \"dl-stfu-668ae575a084.json\" ##you will need a key file.  we probs need some google credits for this.   talk to kilis"
   ]
  },
  {
   "cell_type": "code",
   "execution_count": 2,
   "id": "6a893431",
   "metadata": {},
   "outputs": [],
   "source": [
    "from google.oauth2 import service_account\n",
    "\n",
    "credentials = service_account.Credentials.from_service_account_file(key_file)\n"
   ]
  },
  {
   "cell_type": "markdown",
   "id": "1391ad56",
   "metadata": {},
   "source": [
    "a useful link for the text to speach api in python\n",
    "https://codelabs.developers.google.com/codelabs/cloud-text-speech-python3#6\n"
   ]
  },
  {
   "cell_type": "code",
   "execution_count": 3,
   "id": "925d14ae",
   "metadata": {},
   "outputs": [],
   "source": [
    "import google.cloud.texttospeech as tts\n",
    "import matplotlib.pyplot as plt\n",
    "from scipy import signal\n",
    "from scipy.io import wavfile\n",
    "import numpy as np\n",
    "import random\n",
    "import string\n",
    "import pandas as pd"
   ]
  },
  {
   "cell_type": "code",
   "execution_count": 130,
   "id": "731ecfd8",
   "metadata": {},
   "outputs": [],
   "source": [
    "def unique_languages_from_voices(voices):\n",
    "    language_set = set()\n",
    "    for voice in voices:\n",
    "        for language_code in voice.language_codes:\n",
    "            language_set.add(language_code)\n",
    "    return language_set\n",
    "\n",
    "\n",
    "def list_languages():\n",
    "    client = tts.TextToSpeechClient(credentials=credentials) ##need credentials in every client.  annoying\n",
    "    response = client.list_voices()\n",
    "    languages = unique_languages_from_voices(response.voices)\n",
    "\n",
    "    return languages\n",
    "        \n",
    "def list_voices(language_code=None):\n",
    "    client = tts.TextToSpeechClient(credentials=credentials) ##ditto\n",
    "    response = client.list_voices(language_code=language_code)\n",
    "    voices = sorted(response.voices, key=lambda voice: voice.name)\n",
    "\n",
    "    \n",
    "    return [(voice.name, tts.SsmlVoiceGender(voice.ssml_gender).name) for voice in  voices]\n",
    "     \n",
    "        \n",
    "def text_to_wav(voice_name: str, text: str, speaking_rate = 1.0, pitch = 0.0):\n",
    "    #speaking rate can be between 0.25 and 4.0.  outside that is err\n",
    "    #pitch can be between -20.0 and 20.0. but don't mess that much.\n",
    "    #https://cloud.google.com/python/docs/reference/texttospeech/latest/google.cloud.texttospeech_v1.types.AudioConfig\n",
    "    #effects_profile_id worth explorign\n",
    "    language_code = \"-\".join(voice_name.split(\"-\")[:2])\n",
    "    text_input = tts.SynthesisInput(text=text)\n",
    "    voice_params = tts.VoiceSelectionParams(\n",
    "        language_code=language_code, name=voice_name\n",
    "    )\n",
    "    \n",
    "    #https://cloud.google.com/speech-to-text/docs/encoding\n",
    "    audio_config = tts.AudioConfig(audio_encoding=tts.AudioEncoding.LINEAR16 \n",
    "                                   ,speaking_rate=speaking_rate\n",
    "                                   ,sampleRateHz=16000\n",
    "                                   ,pitch=pitch)  ##this is where you get speed, pitch, etc.\n",
    "    client = tts.TextToSpeechClient(credentials=credentials)\n",
    "    response = client.synthesize_speech(\n",
    "        input=text_input, voice=voice_params, audio_config=audio_config\n",
    "    )\n",
    "\n",
    "    filename = f\"{language_code}.wav\"\n",
    "    with open(filename, \"wb\") as out:\n",
    "        out.write(response.audio_content)\n",
    "        print(f'Generated speech saved to \"{filename}\"')\n",
    "        \n",
    "def random_settings_text_to_wav( text: str, data_path: str, voice_list, profile_list):\n",
    "    \"\"\"\n",
    "    data_path should be the parent folder. in data_path you should have one folder for each output classes.  \n",
    "    \"\"\"\n",
    "    voice = random.choice(voice_list) #takes the list as i prepare it in list_voices\n",
    "    voice_name = voice[0]\n",
    "    gender = voice[1]\n",
    "    \n",
    "    speaking_rate = random.uniform(0.8,1.2) #do i need to reduce digits?\n",
    "    pitch = random.uniform(-5,5)\n",
    "    profile = random.choice(profile_list)\n",
    "    print(gender, profile)\n",
    "    #speaking rate can be between 0.25 and 4.0.  outside that is err\n",
    "    #pitch can be between -20.0 and 20.0. but don't mess that much.\n",
    "    #https://cloud.google.com/python/docs/reference/texttospeech/latest/google.cloud.texttospeech_v1.types.AudioConfig\n",
    "    #effects_profile_id worth explorign\n",
    "    \n",
    "    language_code = \"-\".join(voice_name.split(\"-\")[:2])\n",
    "    text_input = tts.SynthesisInput(text=text)\n",
    "    voice_params = tts.VoiceSelectionParams(\n",
    "        language_code=language_code, name=voice_name, ssml_gender = gender\n",
    "    )\n",
    "    audio_config = tts.AudioConfig(audio_encoding=tts.AudioEncoding.LINEAR16\n",
    "                                   ,speaking_rate=speaking_rate\n",
    "                                   ,sample_rate_hertz=16_000\n",
    "                                   ,pitch=pitch\n",
    "                                  , effects_profile_id = [profile] #this appears to be causing errors.\n",
    "                                  )  ##this is where you get speed, pitch, etc.\n",
    "    client = tts.TextToSpeechClient(credentials=credentials)\n",
    "    response = client.synthesize_speech(\n",
    "        input=text_input, voice=voice_params, audio_config=audio_config\n",
    "    )\n",
    "    code = ''.join(random.choice(string.ascii_uppercase + string.digits) for _ in range(15)) #file name vishesh no repeats\n",
    "    filename = f\"{language_code}_{code}.wav\"\n",
    "    #this needs to be written to a file somewhere. the text, the file name, and the spectrogram too.  \n",
    "    #i need ghz i think\n",
    "    \n",
    "    #text should match the folder.  if it doesn't exist create it?\n",
    "    data_contents = os.listdir(data_path)\n",
    "    output_dir = [i for i in contents if i[0] != '.']\n",
    "    \n",
    "    if text not in class_dir:\n",
    "        raise ValueError('you must have a folder that matches the text')\n",
    "    \n",
    "    save_path = os.path.join(data_path,text)\n",
    "    file_path = os.path.join(save_path,filename)\n",
    "    print(file_path)\n",
    "    #raise ValueError('stop!')\n",
    "    with open(file_path, \"wb\") as out:\n",
    "        out.write(response.audio_content)\n",
    "        print(f'Generated speech saved to \"{file_path}\"')"
   ]
  },
  {
   "cell_type": "code",
   "execution_count": 131,
   "id": "fd5e3978",
   "metadata": {},
   "outputs": [
    {
     "data": {
      "text/plain": [
       "[('en-US-Neural2-A', 'MALE'),\n",
       " ('en-US-Neural2-C', 'FEMALE'),\n",
       " ('en-US-Neural2-D', 'MALE'),\n",
       " ('en-US-Neural2-E', 'FEMALE'),\n",
       " ('en-US-Neural2-F', 'FEMALE'),\n",
       " ('en-US-Neural2-G', 'FEMALE'),\n",
       " ('en-US-Neural2-H', 'FEMALE'),\n",
       " ('en-US-Neural2-I', 'MALE'),\n",
       " ('en-US-Neural2-J', 'MALE'),\n",
       " ('en-US-News-K', 'FEMALE'),\n",
       " ('en-US-News-L', 'FEMALE'),\n",
       " ('en-US-News-M', 'MALE'),\n",
       " ('en-US-News-N', 'MALE'),\n",
       " ('en-US-Polyglot-1', 'MALE'),\n",
       " ('en-US-Standard-A', 'MALE'),\n",
       " ('en-US-Standard-A', 'MALE'),\n",
       " ('en-US-Standard-B', 'MALE'),\n",
       " ('en-US-Standard-B', 'MALE'),\n",
       " ('en-US-Standard-C', 'FEMALE'),\n",
       " ('en-US-Standard-C', 'FEMALE'),\n",
       " ('en-US-Standard-D', 'MALE'),\n",
       " ('en-US-Standard-D', 'MALE'),\n",
       " ('en-US-Standard-E', 'FEMALE'),\n",
       " ('en-US-Standard-E', 'FEMALE'),\n",
       " ('en-US-Standard-F', 'FEMALE'),\n",
       " ('en-US-Standard-F', 'FEMALE'),\n",
       " ('en-US-Standard-G', 'FEMALE'),\n",
       " ('en-US-Standard-G', 'FEMALE'),\n",
       " ('en-US-Standard-H', 'FEMALE'),\n",
       " ('en-US-Standard-H', 'FEMALE'),\n",
       " ('en-US-Standard-I', 'MALE'),\n",
       " ('en-US-Standard-I', 'MALE'),\n",
       " ('en-US-Standard-J', 'MALE'),\n",
       " ('en-US-Standard-J', 'MALE'),\n",
       " ('en-US-Studio-M', 'MALE'),\n",
       " ('en-US-Studio-O', 'FEMALE'),\n",
       " ('en-US-Wavenet-A', 'MALE'),\n",
       " ('en-US-Wavenet-B', 'MALE'),\n",
       " ('en-US-Wavenet-C', 'FEMALE'),\n",
       " ('en-US-Wavenet-D', 'MALE'),\n",
       " ('en-US-Wavenet-E', 'FEMALE'),\n",
       " ('en-US-Wavenet-F', 'FEMALE'),\n",
       " ('en-US-Wavenet-G', 'FEMALE'),\n",
       " ('en-US-Wavenet-H', 'FEMALE'),\n",
       " ('en-US-Wavenet-I', 'MALE'),\n",
       " ('en-US-Wavenet-J', 'MALE')]"
      ]
     },
     "execution_count": 131,
     "metadata": {},
     "output_type": "execute_result"
    }
   ],
   "source": [
    "voice_list = list_voices(language_code=\"en-us\")\n",
    "voice_list"
   ]
  },
  {
   "cell_type": "code",
   "execution_count": 132,
   "id": "edbcdd9d",
   "metadata": {},
   "outputs": [],
   "source": [
    "profile_id_list = ['wearable-class-device'##\tSmart watches and other wearables, like Apple Watch, Wear OS watch\n",
    ",'handset-class-device'##\tSmartphones, like Google Pixel, Samsung Galaxy, Apple iPhone\n",
    ",'headphone-class-device'##\tEarbuds or headphones for audio playback, like Sennheiser headphones\n",
    ",'small-bluetooth-speaker-class-device'#\tSmall home speakers, like Google Home Mini\n",
    ",'medium-bluetooth-speaker-class-device'#\tSmart home speakers, like Google Home\n",
    ",'large-home-entertainment-class-device'#\tHome entertainment systems or smart TVs, like Google Home Max, LG TV\n",
    ",'large-automotive-class-device'#\tCar speakers\n",
    ",'telephony-class-application'#\tInteractive Voice Response (IVR) systems\n",
    "]"
   ]
  },
  {
   "cell_type": "code",
   "execution_count": 133,
   "id": "5713fefd",
   "metadata": {},
   "outputs": [],
   "source": [
    "words = ['up'\n",
    "         ,'down'\n",
    "         ,'left'\n",
    "         ,'right'\n",
    "         ,'yes'\n",
    "         ,'no'\n",
    "         ,'on'\n",
    "         ,'off'\n",
    "         ,'stop'\n",
    "         ,'go']\n"
   ]
  },
  {
   "cell_type": "code",
   "execution_count": 134,
   "id": "d9dd48cf",
   "metadata": {
    "scrolled": true
   },
   "outputs": [
    {
     "name": "stdout",
     "output_type": "stream",
     "text": [
      "FEMALE small-bluetooth-speaker-class-device\n",
      "/Users/dallin.gordon/Desktop/s4_files/data_aug/data/off/en-US_YVGE8PGZVHEOW8N.wav\n",
      "Generated speech saved to \"/Users/dallin.gordon/Desktop/s4_files/data_aug/data/off/en-US_YVGE8PGZVHEOW8N.wav\"\n"
     ]
    }
   ],
   "source": [
    "word = random.choice(words)\n",
    "word = \"off\"\n",
    "random_settings_text_to_wav( word, '/Users/dallin.gordon/Desktop/s4_files/data_aug/data/', voice_list,profile_id_list) #fix the save, where we want it vish?"
   ]
  },
  {
   "cell_type": "code",
   "execution_count": 79,
   "id": "4a0b1932",
   "metadata": {},
   "outputs": [
    {
     "data": {
      "text/html": [
       "\n",
       "                <audio  controls=\"controls\" >\n",
       "                    <source src=\"data:audio/x-wav;base64,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\" type=\"audio/x-wav\" />\n",
       "                    Your browser does not support the audio element.\n",
       "                </audio>\n",
       "              "
      ],
      "text/plain": [
       "<IPython.lib.display.Audio object>"
      ]
     },
     "execution_count": 79,
     "metadata": {},
     "output_type": "execute_result"
    }
   ],
   "source": [
    "import IPython\n",
    "\n",
    "IPython.display.Audio(\"/Users/dallin.gordon/Desktop/s4_files/data_aug/data/off/en-US_8BXMZDYL2MZDY4Q.wav\")"
   ]
  },
  {
   "cell_type": "code",
   "execution_count": 44,
   "id": "d43102b6",
   "metadata": {},
   "outputs": [],
   "source": [
    "directory_path = '/Users/dallin.gordon/Desktop/s4_files/data_aug/data/'\n",
    "\n",
    "# Use os.listdir to get a list of all files and directories in the specified directory\n",
    "contents = os.listdir(directory_path)\n",
    "class_dir = [i for i in contents if i[0] != '.']"
   ]
  },
  {
   "cell_type": "code",
   "execution_count": 45,
   "id": "f6640150",
   "metadata": {},
   "outputs": [
    {
     "data": {
      "text/plain": [
       "['on', 'off']"
      ]
     },
     "execution_count": 45,
     "metadata": {},
     "output_type": "execute_result"
    }
   ],
   "source": [
    "class_dir"
   ]
  },
  {
   "cell_type": "code",
   "execution_count": 135,
   "id": "9c49f6bf",
   "metadata": {},
   "outputs": [],
   "source": [
    "import numpy as np\n",
    "from scipy.io import wavfile\n",
    "\n",
    "# Load the wave file\n",
    "x = wavfile.read(\"/Users/dallin.gordon/Desktop/s4_files/data_aug/data/off/en-US_YVGE8PGZVHEOW8N.wav\")"
   ]
  },
  {
   "cell_type": "code",
   "execution_count": 136,
   "id": "f2fede37",
   "metadata": {},
   "outputs": [
    {
     "data": {
      "text/plain": [
       "(16000, array([0, 0, 0, ..., 0, 0, 0], dtype=int16))"
      ]
     },
     "execution_count": 136,
     "metadata": {},
     "output_type": "execute_result"
    }
   ],
   "source": [
    "x"
   ]
  },
  {
   "cell_type": "code",
   "execution_count": 129,
   "id": "81e50d12",
   "metadata": {},
   "outputs": [
    {
     "data": {
      "text/plain": [
       "['__bool__',\n",
       " '__class__',\n",
       " '__contains__',\n",
       " '__delattr__',\n",
       " '__dict__',\n",
       " '__dir__',\n",
       " '__doc__',\n",
       " '__eq__',\n",
       " '__format__',\n",
       " '__ge__',\n",
       " '__getattr__',\n",
       " '__getattribute__',\n",
       " '__getstate__',\n",
       " '__gt__',\n",
       " '__hash__',\n",
       " '__init__',\n",
       " '__init_subclass__',\n",
       " '__le__',\n",
       " '__lt__',\n",
       " '__module__',\n",
       " '__ne__',\n",
       " '__new__',\n",
       " '__reduce__',\n",
       " '__reduce_ex__',\n",
       " '__repr__',\n",
       " '__setattr__',\n",
       " '__setstate__',\n",
       " '__sizeof__',\n",
       " '__str__',\n",
       " '__subclasshook__',\n",
       " '__weakref__',\n",
       " 'audio_encoding',\n",
       " 'effects_profile_id',\n",
       " 'pitch',\n",
       " 'sample_rate_hertz',\n",
       " 'speaking_rate',\n",
       " 'volume_gain_db']"
      ]
     },
     "execution_count": 129,
     "metadata": {},
     "output_type": "execute_result"
    }
   ],
   "source": [
    "dir(tts.AudioConfig())"
   ]
  },
  {
   "cell_type": "code",
   "execution_count": null,
   "id": "56408d60",
   "metadata": {},
   "outputs": [],
   "source": []
  }
 ],
 "metadata": {
  "kernelspec": {
   "display_name": "Python 3 (ipykernel)",
   "language": "python",
   "name": "python3"
  },
  "language_info": {
   "codemirror_mode": {
    "name": "ipython",
    "version": 3
   },
   "file_extension": ".py",
   "mimetype": "text/x-python",
   "name": "python",
   "nbconvert_exporter": "python",
   "pygments_lexer": "ipython3",
   "version": "3.9.12"
  }
 },
 "nbformat": 4,
 "nbformat_minor": 5
}
